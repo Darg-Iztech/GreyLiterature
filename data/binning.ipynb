{
 "cells": [
  {
   "cell_type": "code",
   "execution_count": 55,
   "metadata": {},
   "outputs": [
    {
     "name": "stdout",
     "output_type": "stream",
     "text": [
      "Index(['user_id', 'question_id', 'question_title', 'question_text',\n",
      "       'answer_id', 'answer_text', 'answer_score', 'user_tag_count',\n",
      "       'user_tag_score', 'answer_score_mean', 'sum_class',\n",
      "       'answer_score_median', 'mean_class', 'median_class'],\n",
      "      dtype='object') \n",
      "\n",
      "\n",
      "Index(['user_id', 'question_id', 'question_title', 'question_text',\n",
      "       'answer_id', 'answer_text', 'answer_score', 'user_answer_count',\n",
      "       'user_answer_score', 'answer_score_mean', 'sum_class',\n",
      "       'answer_score_median', 'median_class', 'mean_class'],\n",
      "      dtype='object')\n"
     ]
    }
   ],
   "source": [
    "import os\n",
    "import pandas as pd\n",
    "import numpy as np\n",
    "import matplotlib.pyplot as plt\n",
    "import math\n",
    "\n",
    "df_dp = pd.read_csv(os.path.realpath('data/dp_raw_old.csv'))\n",
    "df_se = pd.read_csv(os.path.realpath('data/se_raw_old.csv'))\n",
    "\n",
    "print(df_dp.columns, \"\\n\\n\")\n",
    "\n",
    "print(df_se.columns)"
   ]
  },
  {
   "cell_type": "markdown",
   "metadata": {},
   "source": [
    "## RENAME AND REORDER COLUMNS"
   ]
  },
  {
   "cell_type": "code",
   "execution_count": 56,
   "metadata": {},
   "outputs": [
    {
     "name": "stdout",
     "output_type": "stream",
     "text": [
      "Index(['user_id', 'question_id', 'question_title', 'question_text',\n",
      "       'answer_id', 'answer_text', 'answer_score', 'user_answer_count',\n",
      "       'user_sum_score', 'user_mean_score', 'user_median_score', 'sum_class',\n",
      "       'mean_class', 'median_class'],\n",
      "      dtype='object') \n",
      "\n",
      "\n",
      "Index(['user_id', 'question_id', 'question_title', 'question_text',\n",
      "       'answer_id', 'answer_text', 'answer_score', 'user_answer_count',\n",
      "       'user_sum_score', 'user_mean_score', 'user_median_score', 'sum_class',\n",
      "       'mean_class', 'median_class'],\n",
      "      dtype='object')\n"
     ]
    }
   ],
   "source": [
    "df_dp.rename(columns={'user_tag_score':'user_sum_score',\n",
    "                      'user_tag_count':'user_answer_count',\n",
    "                      'answer_score_mean':'user_mean_score',\n",
    "                      'answer_score_median':'user_median_score'}, inplace=True)\n",
    "\n",
    "df_dp = df_dp[['user_id', 'question_id', 'question_title', 'question_text',\n",
    "       'answer_id', 'answer_text', 'answer_score', 'user_answer_count',\n",
    "       'user_sum_score', 'user_mean_score', 'user_median_score',\n",
    "       'sum_class', 'mean_class', 'median_class']]\n",
    "\n",
    "print(df_dp.columns, \"\\n\\n\")\n",
    "\n",
    "\n",
    "df_se.rename(columns={'user_answer_score':'user_sum_score',\n",
    "                      'answer_score_mean':'user_mean_score',\n",
    "                      'answer_score_median':'user_median_score'}, inplace=True)\n",
    "\n",
    "df_se = df_se[['user_id', 'question_id', 'question_title', 'question_text',\n",
    "       'answer_id', 'answer_text', 'answer_score', 'user_answer_count',\n",
    "       'user_sum_score', 'user_mean_score', 'user_median_score',\n",
    "       'sum_class', 'mean_class', 'median_class']]\n",
    "\n",
    "print(df_se.columns)"
   ]
  },
  {
   "cell_type": "code",
   "execution_count": 70,
   "metadata": {},
   "outputs": [
    {
     "name": "stdout",
     "output_type": "stream",
     "text": [
      "num of answers after filtering: 22894\n",
      "num of users after filtering: 1942\n",
      "\n",
      "********** user_median_score *********\n",
      "num of positives: 20881\n",
      "num of negatives: 0\n",
      "num of zeros: 2013\n",
      "min score: 0.0\n",
      "max score: 68.0\n",
      "\n",
      "********** user_mean_score *********\n",
      "num of positives: 22816\n",
      "num of negatives: 0\n",
      "num of zeros: 78\n",
      "min score: 0.0\n",
      "max score: 407.6\n",
      "\n",
      "********** user_sum_score *********\n",
      "num of positives: 22816\n",
      "num of negatives: 0\n",
      "num of zeros: 78\n",
      "min score: 0\n",
      "max score: 4391\n",
      "\n"
     ]
    }
   ],
   "source": [
    "use_dp = True\n",
    "\n",
    "if use_dp:\n",
    "    df = df_dp\n",
    "else:\n",
    "    df = df_se\n",
    "\n",
    "df_f = df[(df['user_answer_count'] >= 5)].copy()\n",
    "df_e = df[(df['user_answer_count'] < 5)].copy()\n",
    "\n",
    "df_filtered = df_f\n",
    "df_eliminated = df_e\n",
    "\n",
    "df_users = df_filtered.groupby('user_id')['user_id'].max()\n",
    "print(\"num of answers after filtering: {}\".format(len(df_filtered)))\n",
    "print(\"num of users after filtering: {}\\n\".format(len(df_users)))    \n",
    "\n",
    "scorings = ['user_median_score', 'user_mean_score', 'user_sum_score']\n",
    "labelings = ['median_class', 'mean_class', 'sum_class']\n",
    "\n",
    "user_scores_dict = {}\n",
    "    \n",
    "for scoring in scorings:\n",
    "\n",
    "    print('********** {} *********'.format(scoring))\n",
    "\n",
    "    print(\"num of positives: {}\".format(len(df_filtered[df_filtered[scoring] > 0])))\n",
    "    print(\"num of negatives: {}\".format(len(df_filtered[df_filtered[scoring] < 0])))\n",
    "    print(\"num of zeros: {}\".format(len(df_filtered[df_filtered[scoring] == 0])))\n",
    "    print(\"min score: {}\".format(min(df_filtered[scoring])))\n",
    "    print(\"max score: {}\\n\".format(max(df_filtered[scoring])))"
   ]
  },
  {
   "cell_type": "code",
   "execution_count": 71,
   "metadata": {},
   "outputs": [
    {
     "name": "stdout",
     "output_type": "stream",
     "text": [
      "******* user_median_score bins ******\n",
      "[0.5714285714285714, 1.4285714285714284, 3.571428571428571, 8.928571428571427, 22.32142857142857, 55.80357142857142, 139.50892857142856]\n",
      "\n",
      "******* user_mean_score bins ******\n",
      "[0.5714285714285714, 1.4285714285714284, 3.571428571428571, 8.928571428571427, 22.32142857142857, 55.80357142857142, 139.50892857142856, 348.7723214285714, 871.9308035714284]\n",
      "\n",
      "******* user_sum_score bins ******\n",
      "[0.5714285714285714, 1.4285714285714284, 3.571428571428571, 8.928571428571427, 22.32142857142857, 55.80357142857142, 139.50892857142856, 348.7723214285714, 871.9308035714284, 2179.827008928571, 5449.5675223214275]\n",
      "\n"
     ]
    }
   ],
   "source": [
    "def generateLogbins(minvalue,maxvalue,factor,uselinear=True):\n",
    "    '''Generates a binning vector containing bin limits for log-binning. Inputs:\n",
    "    minvalue, maxvalue = min and max values of data (e.g. degrees) to be binned,\n",
    "    factor = multiplicative factor for increasing bin size,\n",
    "    uselinear=[True|False] for making the first 10 bins linear.'''\n",
    "    if uselinear:\n",
    "    # for degree distributions, the first 10 degrees are often\n",
    "    # binned in linear bins. If so, set uselinear=True\n",
    "        bins=[-0.5,0.5,1.5,2.5,3.5,4.5,5.5,6.5,7.5,8.5,9.5,10.5]\n",
    "        i=12\n",
    "    else:\n",
    "        # set the first bin lower limit s.t. first data point\n",
    "        # falls in the bin center\n",
    "        bins=[]\n",
    "        bins.append(minvalue*2.0/(1+factor))\n",
    "        i=1\n",
    "    while bins[i-1]<maxvalue:\n",
    "        # generate the rest of (log) bin limits. The next bin limit\n",
    "        # is always the previous limit times the factor\n",
    "        bins.append(bins[i-1]*factor)\n",
    "        i+=1\n",
    "\n",
    "    return bins\n",
    "\n",
    "bins_dict = {}\n",
    "\n",
    "for scoring in scorings:\n",
    "    bins_dict[scoring] = generateLogbins(minvalue=1, maxvalue=max(df_filtered[scoring]),\n",
    "                                         factor=2.5, uselinear=False)\n",
    "\n",
    "for scoring in scorings:\n",
    "    print(\"******* {} bins ******\\n{}\\n\".format(scoring, bins_dict[scoring], '\\n'))"
   ]
  },
  {
   "cell_type": "code",
   "execution_count": 72,
   "metadata": {},
   "outputs": [],
   "source": [
    "def findbin(bins, value):\n",
    "    \"\"\" Returns LABEL for a score \"\"\"\n",
    "    lowerlimit=0\n",
    "    upperlimit=len(bins)-1\n",
    "\n",
    "    while (upperlimit-lowerlimit)>1:\n",
    "        halfpoint=int(math.ceil(0.5*(upperlimit+lowerlimit)))\n",
    "        if (value>=bins[halfpoint]):\n",
    "            lowerlimit=halfpoint\n",
    "        else:\n",
    "            upperlimit=halfpoint\n",
    "\n",
    "    return lowerlimit"
   ]
  },
  {
   "cell_type": "code",
   "execution_count": 73,
   "metadata": {},
   "outputs": [
    {
     "name": "stdout",
     "output_type": "stream",
     "text": [
      "\n",
      "user_median_score: {0: 12692, 1: 8965, 2: 1159, 3: 73, 5: 5}\n",
      "\n",
      "user_mean_score: {0: 6255, 1: 9502, 2: 5102, 3: 1638, 4: 292, 5: 94, 6: 6, 7: 5}\n",
      "\n",
      "user_sum_score: {0: 163, 1: 476, 2: 2257, 3: 5452, 4: 5432, 5: 4137, 6: 2882, 7: 1697, 8: 195, 9: 203}\n"
     ]
    }
   ],
   "source": [
    "labels = {}\n",
    "\n",
    "for scoring,labeling in zip(scorings,labelings):\n",
    "    labels[scoring] = []\n",
    "    for score in df_filtered[scoring]:\n",
    "        labels[scoring].append(findbin(bins_dict[scoring], score))\n",
    "\n",
    "    df_filtered[labeling] = labels[scoring]\n",
    "    unique, counts = np.unique(labels[scoring], return_counts=True)\n",
    "    d = dict(zip(unique, counts))\n",
    "    print(\"\\n{}: {}\".format(scoring, d))"
   ]
  },
  {
   "cell_type": "markdown",
   "metadata": {},
   "source": [
    "## MERGE SMALL CLASSES"
   ]
  },
  {
   "cell_type": "code",
   "execution_count": 74,
   "metadata": {},
   "outputs": [
    {
     "name": "stdout",
     "output_type": "stream",
     "text": [
      "\n",
      "********** BY median_class **********\n",
      "   median_class  answers  users\n",
      "0            -1    36246  27239\n",
      "1             0    12692   1093\n",
      "2             1     8965    726\n",
      "3             2     1237    123\n",
      "\n",
      "********** BY mean_class **********\n",
      "   mean_class  answers  users\n",
      "0          -1    36246  27239\n",
      "1           0     6255    612\n",
      "2           1     9502    804\n",
      "3           2     5102    359\n",
      "4           3     2035    167\n",
      "\n",
      "********** BY sum_class **********\n",
      "   sum_class  answers  users\n",
      "0         -1    36246  27239\n",
      "1          0      639    108\n",
      "2          1     2257    349\n",
      "3          2     5452    672\n",
      "4          3     5432    457\n",
      "5          4     4137    226\n",
      "6          5     2882     92\n",
      "7          6     2095     38\n"
     ]
    }
   ],
   "source": [
    "# always recall the previous cell to avoid re-merging!\n",
    "\n",
    "if use_dp:\n",
    "    df_filtered.loc[(df_filtered.median_class > 2), 'median_class'] = 2\n",
    "    df_filtered.loc[(df_filtered.mean_class > 3), 'mean_class'] = 3\n",
    "    df_filtered.loc[(df_filtered.sum_class > 7), 'sum_class'] = 7\n",
    "    df_filtered.loc[(df_filtered.sum_class < 2), 'sum_class'] = 1\n",
    "    df_filtered['sum_class'] = df_filtered['sum_class']-1\n",
    "else:\n",
    "    df_filtered.loc[(df_filtered.median_class > 3), 'median_class'] = 3\n",
    "    df_filtered.loc[(df_filtered.mean_class > 4), 'mean_class'] = 4\n",
    "    df_filtered.loc[(df_filtered.sum_class > 10), 'sum_class'] = 10\n",
    "    df_filtered.loc[(df_filtered.sum_class < 2), 'sum_class'] = 2\n",
    "    df_filtered['sum_class'] = df_filtered['sum_class']-2\n",
    "\n",
    "# append eliminated answers with -1 label\n",
    "for labeling in labelings:\n",
    "    df_eliminated[labeling] = -1\n",
    "df_merged = pd.concat([df_filtered, df_eliminated])\n",
    "    \n",
    "for labeling in labelings:\n",
    "    print(\"\\n********** BY {} **********\".format(labeling))\n",
    "    x = df_merged.groupby(labeling)['answer_id'].count().reset_index(name ='answers')\n",
    "    y = df_merged.groupby(labeling)['user_id'].nunique().reset_index(name ='users')\n",
    "    x['users'] = y['users']\n",
    "    print(x.head(15))\n"
   ]
  },
  {
   "cell_type": "code",
   "execution_count": 75,
   "metadata": {},
   "outputs": [],
   "source": [
    "if use_dp:\n",
    "    df_merged.to_csv('./data/dp_raw_new.csv', sep=',', index=False)\n",
    "else:\n",
    "    df_merged.to_csv('./data/se_raw_new.csv', sep=',', index=False)"
   ]
  }
 ],
 "metadata": {
  "kernelspec": {
   "display_name": "Python 3",
   "language": "python",
   "name": "python3"
  },
  "language_info": {
   "codemirror_mode": {
    "name": "ipython",
    "version": 3
   },
   "file_extension": ".py",
   "mimetype": "text/x-python",
   "name": "python",
   "nbconvert_exporter": "python",
   "pygments_lexer": "ipython3",
   "version": "3.7.6"
  }
 },
 "nbformat": 4,
 "nbformat_minor": 4
}
